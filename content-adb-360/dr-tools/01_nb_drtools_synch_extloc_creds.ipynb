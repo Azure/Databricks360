{
 "cells": [
  {
   "cell_type": "markdown",
   "metadata": {
    "application/vnd.databricks.v1+cell": {
     "cellMetadata": {
      "byteLimit": 2048000,
      "rowLimit": 10000
     },
     "inputWidgets": {},
     "nuid": "6a03c5e7-4256-4129-8636-c733c7daafdd",
     "showTitle": false,
     "tableResultSettingsMap": {},
     "title": ""
    }
   },
   "source": [
    "# Notebook Supported Desaster Recovery - Synching External Locations and Credentials\n",
    "---\n",
    "Parameters:\n",
    "* source workspace uri\n",
    "* destination workspace uri\n",
    "\n",
    "\n",
    "Clientid, clientsecret and tenantid are read from a keyvault\n",
    "\n",
    "Then we need a mapping table credmap for credname, targetaccessconnectorid and\n",
    "locmap for external location and url. The bronzeextloc will be an external location, which will be replicated by provider. That is why the location will not be updated to the new one.\n"
   ]
  },
  {
   "cell_type": "code",
   "execution_count": 0,
   "metadata": {
    "application/vnd.databricks.v1+cell": {
     "cellMetadata": {
      "byteLimit": 2048000,
      "rowLimit": 10000
     },
     "inputWidgets": {},
     "nuid": "74964b25-833d-42b5-9d01-d80bc32a8703",
     "showTitle": false,
     "tableResultSettingsMap": {},
     "title": ""
    }
   },
   "outputs": [],
   "source": [
    "dbutils.widgets.text(\"source_workspace\", \"\", \"Source Workspace\")\n",
    "dbutils.widgets.text(\"destination_workspace\", \"\", \"Destination Workspace\")"
   ]
  },
  {
   "cell_type": "code",
   "execution_count": 0,
   "metadata": {
    "application/vnd.databricks.v1+cell": {
     "cellMetadata": {
      "byteLimit": 2048000,
      "rowLimit": 10000
     },
     "inputWidgets": {},
     "nuid": "536af473-e75b-4124-86ac-ad52929bbb25",
     "showTitle": false,
     "tableResultSettingsMap": {},
     "title": ""
    }
   },
   "outputs": [],
   "source": [
    "source_workspace = dbutils.widgets.get(\"source_workspace\")\n",
    "destination_workspace = dbutils.widgets.get(\"destination_workspace\")\n"
   ]
  },
  {
   "cell_type": "code",
   "execution_count": 0,
   "metadata": {
    "application/vnd.databricks.v1+cell": {
     "cellMetadata": {
      "byteLimit": 2048000,
      "rowLimit": 10000
     },
     "inputWidgets": {},
     "nuid": "4917eb99-bcf9-4cdf-9fcd-4c66ecf2068c",
     "showTitle": false,
     "tableResultSettingsMap": {},
     "title": ""
    }
   },
   "outputs": [],
   "source": [
    "clientid = dbutils.secrets.get('kvbacked', 'clientid')\n",
    "clientsecret = dbutils.secrets.get('kvbacked', 'clientsecret')\n",
    "tenantid = dbutils.secrets.get('kvbacked', 'tenantid')"
   ]
  },
  {
   "cell_type": "code",
   "execution_count": 0,
   "metadata": {
    "application/vnd.databricks.v1+cell": {
     "cellMetadata": {
      "byteLimit": 2048000,
      "rowLimit": 10000
     },
     "inputWidgets": {},
     "nuid": "f06a85ed-8d5c-44c9-b7f1-2aebb7f6f825",
     "showTitle": false,
     "tableResultSettingsMap": {},
     "title": ""
    }
   },
   "outputs": [],
   "source": [
    "from databricks.sdk import WorkspaceClient\n",
    "from databricks.sdk.service import catalog\n"
   ]
  },
  {
   "cell_type": "code",
   "execution_count": 0,
   "metadata": {
    "application/vnd.databricks.v1+cell": {
     "cellMetadata": {
      "byteLimit": 2048000,
      "rowLimit": 10000
     },
     "inputWidgets": {},
     "nuid": "5e9a5b56-68af-409e-a52c-db0fea50c91e",
     "showTitle": false,
     "tableResultSettingsMap": {},
     "title": ""
    }
   },
   "outputs": [],
   "source": [
    "# variables\n",
    "# this is a dictionary of credential names and how they map to the access connector ids\n",
    "credmap = {\n",
    "    \"devcreds\": \"/subscriptions/2865292f-c1ed-4867-a66d-337eae300421/resourceGroups/rg-wcus-adb3600318-dev/providers/Microsoft.Databricks/accessConnectors/adbac-westcentralus-adb3600318-dev\"\n",
    "}\n",
    "\n",
    "locmap = {\n",
    "    \"bronzextlocdev\" : \"abfss://bronze@dlg2devwestcentralusetms.dfs.core.windows.net/\",\n",
    "    \"catextlocdev\" : \"abfss://fsms@dlg2metastoredevwestlp6m.dfs.core.windows.net/\"\n",
    "}"
   ]
  },
  {
   "cell_type": "code",
   "execution_count": 0,
   "metadata": {
    "application/vnd.databricks.v1+cell": {
     "cellMetadata": {
      "byteLimit": 2048000,
      "rowLimit": 10000
     },
     "inputWidgets": {},
     "nuid": "5c1a8954-9c6e-40ac-87d2-5dd6e9e9757a",
     "showTitle": false,
     "tableResultSettingsMap": {},
     "title": ""
    }
   },
   "outputs": [],
   "source": [
    "# create connections to source and destination workspace\n",
    "sourceWs = WorkspaceClient(azure_client_id=clientid, azure_client_secret=clientsecret, azure_tenant_id=tenantid, host=source_workspace)\n",
    "destWs = WorkspaceClient(azure_client_id=clientid, azure_client_secret=clientsecret, azure_tenant_id=tenantid, host=destination_workspace)"
   ]
  },
  {
   "cell_type": "code",
   "execution_count": 0,
   "metadata": {
    "application/vnd.databricks.v1+cell": {
     "cellMetadata": {
      "byteLimit": 2048000,
      "rowLimit": 10000
     },
     "inputWidgets": {},
     "nuid": "383d3fcb-ea12-4efa-80bd-973fdadc8d97",
     "showTitle": false,
     "tableResultSettingsMap": {},
     "title": ""
    }
   },
   "outputs": [],
   "source": [
    "# get the source and destination credentials\n",
    "source_creds = [x for x in sourceWs.storage_credentials.list()]\n",
    "dest_creds = [x for x in destWs.storage_credentials.list()]\n",
    "# compare the two lists and find, which creds are not existing in destination\n",
    "# also filter out the credentials named adbws_* because these are for the workspaces and UC\n",
    "source_cred_names = [x.name for x in source_creds if not x.name.startswith(\"adbws_\")]\n",
    "target_cred_names = [x.name for x in dest_creds if not x.name.startswith(\"adbws_\")]\n",
    "cred_diff = list(set(source_cred_names) - set(target_cred_names))\n",
    "creds_to_create = [x for x in source_creds if x.name in cred_diff]"
   ]
  },
  {
   "cell_type": "code",
   "execution_count": 0,
   "metadata": {
    "application/vnd.databricks.v1+cell": {
     "cellMetadata": {
      "byteLimit": 2048000,
      "rowLimit": 10000
     },
     "inputWidgets": {},
     "nuid": "dce4087e-6659-4c33-b738-ac4ad52e6c4d",
     "showTitle": false,
     "tableResultSettingsMap": {},
     "title": ""
    }
   },
   "outputs": [],
   "source": [
    "# main loop to create the credentials\n",
    "for cred in creds_to_create:\n",
    "    cred_name = cred.name\n",
    "    cred_read_only = cred.read_only\n",
    "    cred_comment = cred.comment\n",
    "\n",
    "    cred_request = catalog.AzureManagedIdentityRequest(access_connector_id=credmap[cred_name])\n",
    "    destWs.storage_credentials.create(\n",
    "        azure_managed_identity=cred_request, \n",
    "        name=cred_name, \n",
    "        read_only=cred_read_only,\n",
    "        comment=cred_comment\n",
    "        )\n",
    "    print(f\"Created credential {cred_name}\")\n",
    "print('Credentials created ')"
   ]
  },
  {
   "cell_type": "code",
   "execution_count": 0,
   "metadata": {
    "application/vnd.databricks.v1+cell": {
     "cellMetadata": {
      "byteLimit": 2048000,
      "rowLimit": 10000
     },
     "inputWidgets": {},
     "nuid": "6fdc279f-13ac-4489-b880-8e8096a333c3",
     "showTitle": false,
     "tableResultSettingsMap": {},
     "title": ""
    }
   },
   "outputs": [],
   "source": [
    "# prepare external locations\n",
    "# first read source and destination external locations\n",
    "source_extlocs = [x for x in sourceWs.external_locations.list()]\n",
    "dest_extlocs = [x for x in destWs.external_locations.list()]\n",
    "\n",
    "# extract the names and leave out all location starting with adbws_*\n",
    "source_extloc_names = [x.name for x in source_extlocs if not x.name.startswith(\"adbws_\")]\n",
    "dest_extloc_names = [x.name for x in dest_extlocs if not x.name.startswith(\"adbws_\")]\n",
    "\n",
    "# find the difference of source and dest extlocs\n",
    "extloc_diff = list(set(source_extloc_names) - set(dest_extloc_names))\n",
    "extlocs_to_create = [x for x in source_extlocs if x.name in extloc_diff]"
   ]
  },
  {
   "cell_type": "code",
   "execution_count": 0,
   "metadata": {
    "application/vnd.databricks.v1+cell": {
     "cellMetadata": {
      "byteLimit": 2048000,
      "rowLimit": 10000
     },
     "inputWidgets": {},
     "nuid": "29f0f203-5368-43b5-898f-e102a1b10143",
     "showTitle": false,
     "tableResultSettingsMap": {},
     "title": ""
    }
   },
   "outputs": [],
   "source": [
    "# main loop to create external locations\n",
    "for loc in extlocs_to_create:\n",
    "    loc_name = loc.name\n",
    "    loc_cred_name = loc.credential_name\n",
    "    loc_commnet = loc.comment\n",
    "    loc_read_only = loc.read_only\n",
    "    loc_url = loc.url if loc.name == 'bronzextlocdev' else locmap[loc.name]\n",
    "\n",
    "    print(f\"Creating external location {loc_name} with credential {loc_cred_name} and comment {loc_commnet} and url  {loc_url}\")\n",
    "\n",
    "    destWs.external_locations.create(\n",
    "        name=loc_name,\n",
    "        credential_name=loc_cred_name,\n",
    "        comment=loc_commnet,\n",
    "        read_only=loc_read_only,\n",
    "        url=loc_url\n",
    "    )\n",
    "        \n",
    "print(\"External locations created\")\n"
   ]
  }
 ],
 "metadata": {
  "application/vnd.databricks.v1+notebook": {
   "computePreferences": null,
   "dashboards": [],
   "environmentMetadata": {
    "base_environment": "",
    "environment_version": "2"
   },
   "inputWidgetPreferences": null,
   "language": "python",
   "notebookMetadata": {
    "pythonIndentUnit": 4
   },
   "notebookName": "01_nb_drtools_synch_extloc_creds",
   "widgets": {
    "destination_workspace": {
     "currentValue": "https://adb-871698385102392.12.azuredatabricks.net/",
     "nuid": "1b2f4e8d-d0e7-43b0-a649-76ec428e94df",
     "typedWidgetInfo": {
      "autoCreated": false,
      "defaultValue": "",
      "label": "Destination Workspace",
      "name": "destination_workspace",
      "options": {
       "widgetDisplayType": "Text",
       "validationRegex": null
      },
      "parameterDataType": "String"
     },
     "widgetInfo": {
      "widgetType": "text",
      "defaultValue": "",
      "label": "Destination Workspace",
      "name": "destination_workspace",
      "options": {
       "widgetType": "text",
       "autoCreated": null,
       "validationRegex": null
      }
     }
    },
    "source_workspace": {
     "currentValue": "https://adb-2767823278618187.7.azuredatabricks.net/",
     "nuid": "4e30b217-67bb-4709-91fc-e5efb2fd32ce",
     "typedWidgetInfo": {
      "autoCreated": false,
      "defaultValue": "",
      "label": "Source Workspace",
      "name": "source_workspace",
      "options": {
       "widgetDisplayType": "Text",
       "validationRegex": null
      },
      "parameterDataType": "String"
     },
     "widgetInfo": {
      "widgetType": "text",
      "defaultValue": "",
      "label": "Source Workspace",
      "name": "source_workspace",
      "options": {
       "widgetType": "text",
       "autoCreated": null,
       "validationRegex": null
      }
     }
    }
   }
  },
  "language_info": {
   "name": "python"
  }
 },
 "nbformat": 4,
 "nbformat_minor": 0
}
