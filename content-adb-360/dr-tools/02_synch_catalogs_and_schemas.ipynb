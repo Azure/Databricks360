{
 "cells": [
  {
   "cell_type": "markdown",
   "metadata": {
    "application/vnd.databricks.v1+cell": {
     "cellMetadata": {
      "byteLimit": 2048000,
      "rowLimit": 10000
     },
     "inputWidgets": {},
     "nuid": "c3bbbd68-f5a4-4541-94f0-2e037b785bd2",
     "showTitle": false,
     "tableResultSettingsMap": {},
     "title": ""
    }
   },
   "source": [
    "# Notebook to synchronize catalogs and schemas\n",
    "---\n",
    "\n",
    "### Parameters\n",
    "* Source Workspace : uri to source workspace\n",
    "* Destination Workspace : uri to destination workspace\n",
    "\n",
    "* Dictionary with: \n",
    "  * catalog name to synch\n",
    "  * the storage root (adls path for storage, since we have each catalog with its own storage account)\n",
    "  * schemas with names to synch"
   ]
  },
  {
   "cell_type": "code",
   "execution_count": 0,
   "metadata": {
    "application/vnd.databricks.v1+cell": {
     "cellMetadata": {
      "byteLimit": 2048000,
      "rowLimit": 10000
     },
     "inputWidgets": {},
     "nuid": "addf3c36-e286-42f9-a19b-8f1a59177ff8",
     "showTitle": false,
     "tableResultSettingsMap": {},
     "title": ""
    }
   },
   "outputs": [],
   "source": [
    "dbutils.widgets.text(\"source_workspace\", \"\", \"Source Workspace\")\n",
    "dbutils.widgets.text(\"destination_workspace\", \"\", \"Destination Workspace\")\n"
   ]
  },
  {
   "cell_type": "code",
   "execution_count": 0,
   "metadata": {
    "application/vnd.databricks.v1+cell": {
     "cellMetadata": {
      "byteLimit": 2048000,
      "rowLimit": 10000
     },
     "inputWidgets": {},
     "nuid": "acfeb7fb-5062-499d-bc2a-438fc41be00a",
     "showTitle": false,
     "tableResultSettingsMap": {},
     "title": ""
    }
   },
   "outputs": [],
   "source": [
    "source_workspace = dbutils.widgets.get(\"source_workspace\")\n",
    "destination_workspace = dbutils.widgets.get(\"destination_workspace\")"
   ]
  },
  {
   "cell_type": "code",
   "execution_count": 0,
   "metadata": {
    "application/vnd.databricks.v1+cell": {
     "cellMetadata": {
      "byteLimit": 2048000,
      "rowLimit": 10000
     },
     "inputWidgets": {},
     "nuid": "52d5c3fc-7068-4b9e-9fae-78e50a47ebab",
     "showTitle": false,
     "tableResultSettingsMap": {},
     "title": ""
    }
   },
   "outputs": [],
   "source": [
    "#variables\n",
    "# catalogs to copy is the catalog name with the target storage root\n",
    "cats_to_copy = [{\n",
    "    \"catadb360dev\" : {\n",
    "                        \"storageroot\" : \"abfss://fsms@dlg2metastoredevwestlp6m.dfs.core.windows.net/\",\n",
    "                        \"schemas\" : [\n",
    "                            {\"schema\" : \"schemaadb360dev\"},\n",
    "                            {\"schema\" : \"anotherschema\"}\n",
    "                        ]\n",
    "    }\n",
    "},\n",
    "{\n",
    "    \"catadb360prd\" : {\n",
    "                        \"storageroot\" : \"abfss://fsms@dlg2metastoreprdwestlp6m.dfs.core.windows.net/\",\n",
    "                        \"schemas\" : [\n",
    "                            {\"schema\" : \"schemaadb360prd\"}\n",
    "                        ]\n",
    "    }\n",
    "}             \n",
    "\n",
    "]\n"
   ]
  },
  {
   "cell_type": "code",
   "execution_count": 0,
   "metadata": {
    "application/vnd.databricks.v1+cell": {
     "cellMetadata": {
      "byteLimit": 2048000,
      "rowLimit": 10000
     },
     "inputWidgets": {},
     "nuid": "81835214-6a4d-4907-9096-57a3597ebd6f",
     "showTitle": false,
     "tableResultSettingsMap": {},
     "title": ""
    }
   },
   "outputs": [],
   "source": [
    "storageroot_dev = next(cat[\"catadb360dev\"][\"storageroot\"] for cat in cats_to_copy if \"catadb360dev\" in cat)"
   ]
  },
  {
   "cell_type": "code",
   "execution_count": 0,
   "metadata": {
    "application/vnd.databricks.v1+cell": {
     "cellMetadata": {
      "byteLimit": 2048000,
      "rowLimit": 10000
     },
     "inputWidgets": {},
     "nuid": "8fb44b0f-851a-4d91-8298-3fccd8189962",
     "showTitle": false,
     "tableResultSettingsMap": {},
     "title": ""
    }
   },
   "outputs": [],
   "source": [
    "# generate the catalogslist to work on from the configuration s.a.\n",
    "catalogs_list = [list(cat.keys())[0] for cat in cats_to_copy]"
   ]
  },
  {
   "cell_type": "code",
   "execution_count": 0,
   "metadata": {
    "application/vnd.databricks.v1+cell": {
     "cellMetadata": {
      "byteLimit": 2048000,
      "rowLimit": 10000
     },
     "inputWidgets": {},
     "nuid": "07fb20b3-e9e5-4858-aa09-ba849ebd1447",
     "showTitle": false,
     "tableResultSettingsMap": {},
     "title": ""
    }
   },
   "outputs": [],
   "source": [
    "assert (\"catadb360dev\" in catalogs_list and  \"catadb360prd\" in catalogs_list), \"catadb360prd is not in the catalogs_list\"\n",
    "assert len(catalogs_list) == 2, \"catalogs_list is not 2\""
   ]
  },
  {
   "cell_type": "code",
   "execution_count": 0,
   "metadata": {
    "application/vnd.databricks.v1+cell": {
     "cellMetadata": {
      "byteLimit": 2048000,
      "rowLimit": 10000
     },
     "inputWidgets": {},
     "nuid": "ad699dee-ebc6-48e6-8b0a-f052c06fede7",
     "showTitle": false,
     "tableResultSettingsMap": {},
     "title": ""
    }
   },
   "outputs": [],
   "source": [
    "# get the credentials for sp from a keyvault backed secret scope\n",
    "clientid = dbutils.secrets.get('kvbacked', 'clientid')\n",
    "clientsecret = dbutils.secrets.get('kvbacked', 'clientsecret')\n",
    "tenantid = dbutils.secrets.get('kvbacked', 'tenantid')\n"
   ]
  },
  {
   "cell_type": "code",
   "execution_count": 0,
   "metadata": {
    "application/vnd.databricks.v1+cell": {
     "cellMetadata": {
      "byteLimit": 2048000,
      "rowLimit": 10000
     },
     "inputWidgets": {},
     "nuid": "b36b3cfe-cd24-4c82-bf33-5a1c99df948d",
     "showTitle": false,
     "tableResultSettingsMap": {},
     "title": ""
    }
   },
   "outputs": [],
   "source": [
    "# imports\n",
    "from databricks.sdk import WorkspaceClient\n",
    "from databricks.sdk.service import catalog\n"
   ]
  },
  {
   "cell_type": "code",
   "execution_count": 0,
   "metadata": {
    "application/vnd.databricks.v1+cell": {
     "cellMetadata": {
      "byteLimit": 2048000,
      "rowLimit": 10000
     },
     "inputWidgets": {},
     "nuid": "4e55b605-2101-49cd-a3c4-7a8a1a44b294",
     "showTitle": false,
     "tableResultSettingsMap": {},
     "title": ""
    }
   },
   "outputs": [],
   "source": [
    "# create connections to source and destination workspace\n",
    "sourceWs = WorkspaceClient(azure_client_id=clientid, azure_client_secret=clientsecret, azure_tenant_id=tenantid, host=source_workspace)\n",
    "destWs = WorkspaceClient(azure_client_id=clientid, azure_client_secret=clientsecret, azure_tenant_id=tenantid, host=destination_workspace)"
   ]
  },
  {
   "cell_type": "code",
   "execution_count": 0,
   "metadata": {
    "application/vnd.databricks.v1+cell": {
     "cellMetadata": {
      "byteLimit": 2048000,
      "rowLimit": 10000
     },
     "inputWidgets": {},
     "nuid": "d6163198-5e12-4a23-ad5b-1bc089a255b0",
     "showTitle": false,
     "tableResultSettingsMap": {},
     "title": ""
    }
   },
   "outputs": [],
   "source": [
    "# get the source and destination catalogs\n",
    "# check the source catalogs, filter by configuration -> expected all or a subset\n",
    "source_cats = [x for x in sourceWs.catalogs.list() if x.name in catalogs_list]\n",
    "# check the destination catalogs, filter by configuration -> expected none\n",
    "dest_cats = [x for x in destWs.catalogs.list() if x.name in catalogs_list ]"
   ]
  },
  {
   "cell_type": "code",
   "execution_count": 0,
   "metadata": {
    "application/vnd.databricks.v1+cell": {
     "cellMetadata": {
      "byteLimit": 2048000,
      "rowLimit": 10000
     },
     "inputWidgets": {},
     "nuid": "d8892e01-67f9-40ee-a49d-33022940edfc",
     "showTitle": false,
     "tableResultSettingsMap": {},
     "title": ""
    }
   },
   "outputs": [],
   "source": [
    "# firstly we make sure, that the catalogs to synch exist in source\n",
    "assert len(source_cats) <= 2\n",
    "# secondly we make sure, that the catalogs or a subset to synch do not exist in destination\n",
    "assert len(dest_cats) < 2"
   ]
  },
  {
   "cell_type": "code",
   "execution_count": 0,
   "metadata": {
    "application/vnd.databricks.v1+cell": {
     "cellMetadata": {
      "byteLimit": 2048000,
      "rowLimit": 10000
     },
     "inputWidgets": {},
     "nuid": "e6a45298-b15d-4e58-bad6-4073c23b67d5",
     "showTitle": false,
     "tableResultSettingsMap": {},
     "title": ""
    }
   },
   "outputs": [],
   "source": [
    "# find the catalogs to actually sync\n",
    "catalogs_to_sync = [cat for cat in source_cats if cat.name not in {dest_cat.name for dest_cat in dest_cats}]\n"
   ]
  },
  {
   "cell_type": "code",
   "execution_count": 0,
   "metadata": {
    "application/vnd.databricks.v1+cell": {
     "cellMetadata": {
      "byteLimit": 2048000,
      "rowLimit": 10000
     },
     "inputWidgets": {},
     "nuid": "e61899f8-8c42-464a-aa26-af2a8b28b978",
     "showTitle": false,
     "tableResultSettingsMap": {},
     "title": ""
    }
   },
   "outputs": [],
   "source": [
    "# synch the catalogs\n",
    "for catalog in catalogs_to_sync:\n",
    "    # if the catalog is an external on or a shared don't do anything\n",
    "    if catalog.connection_name or catalog.share_name:\n",
    "        print(f\"Skipping {catalog.name} as it is an external catalog or a shared catalog\")\n",
    "        continue\n",
    "\n",
    "    print (f\"working on catalog {catalog.name}\")\n",
    "    catalog_name = catalog.name\n",
    "    catalog_comment = catalog.comment \n",
    "    catalog_options = catalog.options\n",
    "    catalog_properties = catalog.properties \n",
    "\n",
    "    # create the catalog if it doesn't exit already\n",
    "    if catalog_name not in [cat.name for cat in destWs.catalogs.list()]:\n",
    "        print(\"creating the catalog\")\n",
    "        storageroot = next(cat[catalog_name][\"storageroot\"] for cat in cats_to_copy if catalog_name in cat)\n",
    "        destWs.catalogs.create(name=catalog_name, storage_root=storageroot)\n",
    "\n",
    "    # get the schemas to create and create them\n",
    "    schemas = [schema[\"schema\"] for cat in cats_to_copy if catalog_name in cat for schema in cat[catalog_name][\"schemas\"]]\n",
    "    for schema in schemas:\n",
    "        print(f\"\\tcreating schema {schema}\")\n",
    "        destWs.schemas.create(name=schema, catalog_name=catalog_name)\n",
    "    \n",
    "\n",
    "print ('Done!')\n"
   ]
  }
 ],
 "metadata": {
  "application/vnd.databricks.v1+notebook": {
   "computePreferences": null,
   "dashboards": [],
   "environmentMetadata": {
    "base_environment": "",
    "environment_version": "2"
   },
   "inputWidgetPreferences": null,
   "language": "python",
   "notebookMetadata": {
    "pythonIndentUnit": 4
   },
   "notebookName": "02_synch_catalogs_and_schemas",
   "widgets": {
    "destination_workspace": {
     "currentValue": "https://adb-871698385102392.12.azuredatabricks.net/",
     "nuid": "8cdc4bba-c978-4150-a0aa-84daef955fae",
     "typedWidgetInfo": {
      "autoCreated": false,
      "defaultValue": "",
      "label": "Destination Workspace",
      "name": "destination_workspace",
      "options": {
       "widgetDisplayType": "Text",
       "validationRegex": null
      },
      "parameterDataType": "String"
     },
     "widgetInfo": {
      "widgetType": "text",
      "defaultValue": "",
      "label": "Destination Workspace",
      "name": "destination_workspace",
      "options": {
       "widgetType": "text",
       "autoCreated": null,
       "validationRegex": null
      }
     }
    },
    "source_workspace": {
     "currentValue": "https://adb-2767823278618187.7.azuredatabricks.net/",
     "nuid": "5aa3b236-b674-4d64-8d1f-2adaf599b03d",
     "typedWidgetInfo": {
      "autoCreated": false,
      "defaultValue": "",
      "label": "Source Workspace",
      "name": "source_workspace",
      "options": {
       "widgetDisplayType": "Text",
       "validationRegex": null
      },
      "parameterDataType": "String"
     },
     "widgetInfo": {
      "widgetType": "text",
      "defaultValue": "",
      "label": "Source Workspace",
      "name": "source_workspace",
      "options": {
       "widgetType": "text",
       "autoCreated": null,
       "validationRegex": null
      }
     }
    }
   }
  },
  "language_info": {
   "name": "python"
  }
 },
 "nbformat": 4,
 "nbformat_minor": 0
}
