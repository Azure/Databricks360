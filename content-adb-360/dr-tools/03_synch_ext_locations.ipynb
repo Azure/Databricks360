{
 "cells": [
  {
   "cell_type": "markdown",
   "metadata": {
    "application/vnd.databricks.v1+cell": {
     "cellMetadata": {
      "byteLimit": 2048000,
      "rowLimit": 10000
     },
     "inputWidgets": {},
     "nuid": "6656a13a-5b35-46d6-b578-8cc61ca6b8be",
     "showTitle": false,
     "tableResultSettingsMap": {},
     "title": ""
    }
   },
   "source": [
    "# Notebook to synch External Volumes\n",
    "---\n",
    "\n",
    "### Parameters:\n",
    "\n",
    "Source Workspace : uri to source workspace\n",
    "\n",
    "Destination Workspace : uri to destination workspace\n",
    "\n",
    "Notebook, checks whether volume 'bronze' is existing in the source ws and then makes sure, that the volume is not existing in dest and then creates it\n",
    "\n"
   ]
  },
  {
   "cell_type": "code",
   "execution_count": 0,
   "metadata": {
    "application/vnd.databricks.v1+cell": {
     "cellMetadata": {
      "byteLimit": 2048000,
      "rowLimit": 10000
     },
     "inputWidgets": {},
     "nuid": "109ba490-b38b-4be4-a3a2-a895b03d665c",
     "showTitle": false,
     "tableResultSettingsMap": {},
     "title": ""
    }
   },
   "outputs": [],
   "source": [
    "dbutils.widgets.text(\"source_workspace\", \"\", \"Source Workspace\")\n",
    "dbutils.widgets.text(\"destination_workspace\", \"\", \"Destination Workspace\")"
   ]
  },
  {
   "cell_type": "code",
   "execution_count": 0,
   "metadata": {
    "application/vnd.databricks.v1+cell": {
     "cellMetadata": {
      "byteLimit": 2048000,
      "rowLimit": 10000
     },
     "inputWidgets": {},
     "nuid": "013d1353-96ab-44f4-9045-d2af362d03f5",
     "showTitle": false,
     "tableResultSettingsMap": {},
     "title": ""
    }
   },
   "outputs": [],
   "source": [
    "source_workspace = dbutils.widgets.get(\"source_workspace\")\n",
    "destination_workspace = dbutils.widgets.get(\"destination_workspace\")"
   ]
  },
  {
   "cell_type": "code",
   "execution_count": 0,
   "metadata": {
    "application/vnd.databricks.v1+cell": {
     "cellMetadata": {
      "byteLimit": 2048000,
      "rowLimit": 10000
     },
     "inputWidgets": {},
     "nuid": "41b8001f-cdc2-49d3-88ea-a77ecfe236ad",
     "showTitle": false,
     "tableResultSettingsMap": {},
     "title": ""
    }
   },
   "outputs": [],
   "source": [
    "# variables\n",
    "catalog_name = 'catadb360dev'\n",
    "schema_name = 'schemaadb360dev'\n",
    "volume_name = 'bronze'"
   ]
  },
  {
   "cell_type": "code",
   "execution_count": 0,
   "metadata": {
    "application/vnd.databricks.v1+cell": {
     "cellMetadata": {
      "byteLimit": 2048000,
      "rowLimit": 10000
     },
     "inputWidgets": {},
     "nuid": "64484b60-3c4b-4b21-92bc-250ed5d0dad5",
     "showTitle": false,
     "tableResultSettingsMap": {},
     "title": ""
    }
   },
   "outputs": [],
   "source": [
    "# get the credentials for sp from a keyvault backed secret scope\n",
    "clientid = dbutils.secrets.get('kvbacked', 'clientid')\n",
    "clientsecret = dbutils.secrets.get('kvbacked', 'clientsecret')\n",
    "tenantid = dbutils.secrets.get('kvbacked', 'tenantid')\n",
    "\n"
   ]
  },
  {
   "cell_type": "code",
   "execution_count": 0,
   "metadata": {
    "application/vnd.databricks.v1+cell": {
     "cellMetadata": {
      "byteLimit": 2048000,
      "rowLimit": 10000
     },
     "inputWidgets": {},
     "nuid": "4a499768-dcd0-49f9-b78d-dce15b830087",
     "showTitle": false,
     "tableResultSettingsMap": {},
     "title": ""
    }
   },
   "outputs": [],
   "source": [
    "# imports\n",
    "from databricks.sdk import WorkspaceClient\n",
    "from databricks.sdk.errors.platform import ResourceAlreadyExists\n",
    "from databricks.sdk.service import catalog"
   ]
  },
  {
   "cell_type": "code",
   "execution_count": 0,
   "metadata": {
    "application/vnd.databricks.v1+cell": {
     "cellMetadata": {
      "byteLimit": 2048000,
      "rowLimit": 10000
     },
     "inputWidgets": {},
     "nuid": "da5ee347-d7f7-40e3-af3f-c1e26ed464c7",
     "showTitle": false,
     "tableResultSettingsMap": {},
     "title": ""
    }
   },
   "outputs": [],
   "source": [
    "sourceWs = WorkspaceClient(azure_client_id=clientid, azure_client_secret=clientsecret, azure_tenant_id=tenantid, host=source_workspace)\n",
    "destWs = WorkspaceClient(azure_client_id=clientid, azure_client_secret=clientsecret, azure_tenant_id=tenantid, host=destination_workspace)"
   ]
  },
  {
   "cell_type": "code",
   "execution_count": 0,
   "metadata": {
    "application/vnd.databricks.v1+cell": {
     "cellMetadata": {
      "byteLimit": 2048000,
      "rowLimit": 10000
     },
     "inputWidgets": {},
     "nuid": "0f14642b-baa8-4461-b6b9-c2fdcbdde1d7",
     "showTitle": false,
     "tableResultSettingsMap": {},
     "title": ""
    }
   },
   "outputs": [],
   "source": [
    "# if the volume exits in the source workspace\n",
    "sourceVols = [x for x in sourceWs.volumes.list(catalog_name=catalog_name, schema_name=schema_name)]\n",
    "\n",
    "assert len(sourceVols) == 1"
   ]
  },
  {
   "cell_type": "code",
   "execution_count": 0,
   "metadata": {
    "application/vnd.databricks.v1+cell": {
     "cellMetadata": {
      "byteLimit": 2048000,
      "rowLimit": 10000
     },
     "inputWidgets": {},
     "nuid": "32a76c1e-7731-4012-8470-1a66a0365076",
     "showTitle": false,
     "tableResultSettingsMap": {},
     "title": ""
    }
   },
   "outputs": [],
   "source": [
    "# if the volume does not exist in destination\n",
    "destVols = [x for x in destWs.volumes.list(catalog_name=catalog_name, schema_name=schema_name)]\n",
    "\n",
    "assert len(destVols) == 0"
   ]
  },
  {
   "cell_type": "code",
   "execution_count": 0,
   "metadata": {
    "application/vnd.databricks.v1+cell": {
     "cellMetadata": {
      "byteLimit": 2048000,
      "rowLimit": 10000
     },
     "inputWidgets": {},
     "nuid": "772bbee0-d85c-47de-aa45-67b4a7d5fce1",
     "showTitle": false,
     "tableResultSettingsMap": {},
     "title": ""
    }
   },
   "outputs": [],
   "source": [
    "# create the volume\n",
    "try:\n",
    "    destWs.volumes.create(\n",
    "            catalog_name=catalog_name, \n",
    "            schema_name=schema_name, \n",
    "            name=volume_name, \n",
    "            comment='bronze volume',\n",
    "            volume_type = catalog.VolumeType.EXTERNAL,\n",
    "            storage_location=sourceVols[0].storage_location\n",
    "        )\n",
    "except ResourceAlreadyExists:\n",
    "    print(f\"volume {name} already exists, doing nothing\")"
   ]
  },
  {
   "cell_type": "code",
   "execution_count": 0,
   "metadata": {
    "application/vnd.databricks.v1+cell": {
     "cellMetadata": {},
     "inputWidgets": {},
     "nuid": "4a4e2995-fe2b-4fa6-9b2c-81d0941c32bf",
     "showTitle": false,
     "tableResultSettingsMap": {},
     "title": ""
    }
   },
   "outputs": [],
   "source": [
    "print('done')"
   ]
  }
 ],
 "metadata": {
  "application/vnd.databricks.v1+notebook": {
   "computePreferences": null,
   "dashboards": [],
   "environmentMetadata": {
    "base_environment": "",
    "environment_version": "2"
   },
   "inputWidgetPreferences": null,
   "language": "python",
   "notebookMetadata": {
    "pythonIndentUnit": 4
   },
   "notebookName": "03_synch_ext_locations",
   "widgets": {
    "destination_workspace": {
     "currentValue": "https://adb-871698385102392.12.azuredatabricks.net/",
     "nuid": "006879bf-2c96-4b1e-b9a2-a9ccf833d73d",
     "typedWidgetInfo": {
      "autoCreated": false,
      "defaultValue": "",
      "label": "Destination Workspace",
      "name": "destination_workspace",
      "options": {
       "widgetDisplayType": "Text",
       "validationRegex": null
      },
      "parameterDataType": "String"
     },
     "widgetInfo": {
      "widgetType": "text",
      "defaultValue": "",
      "label": "Destination Workspace",
      "name": "destination_workspace",
      "options": {
       "widgetType": "text",
       "autoCreated": null,
       "validationRegex": null
      }
     }
    },
    "source_workspace": {
     "currentValue": "https://adb-2767823278618187.7.azuredatabricks.net/",
     "nuid": "e3e2434e-dc83-48fd-aea8-2e88a8b974a3",
     "typedWidgetInfo": {
      "autoCreated": false,
      "defaultValue": "",
      "label": "Source Workspace",
      "name": "source_workspace",
      "options": {
       "widgetDisplayType": "Text",
       "validationRegex": null
      },
      "parameterDataType": "String"
     },
     "widgetInfo": {
      "widgetType": "text",
      "defaultValue": "",
      "label": "Source Workspace",
      "name": "source_workspace",
      "options": {
       "widgetType": "text",
       "autoCreated": null,
       "validationRegex": null
      }
     }
    }
   }
  },
  "language_info": {
   "name": "python"
  }
 },
 "nbformat": 4,
 "nbformat_minor": 0
}
