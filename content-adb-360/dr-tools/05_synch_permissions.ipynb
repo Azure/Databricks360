{
 "cells": [
  {
   "cell_type": "markdown",
   "metadata": {
    "application/vnd.databricks.v1+cell": {
     "cellMetadata": {},
     "inputWidgets": {},
     "nuid": "d200348b-a404-405b-97fe-25bae6a1d48d",
     "showTitle": false,
     "tableResultSettingsMap": {},
     "title": ""
    }
   },
   "source": [
    "%md\n",
    "# Notebook to synch Permissions from source to destination UC\n",
    "---\n",
    "This notebook is going to synchronize permissons between source workspace and destination workspace objects\n",
    "\n",
    "Source Workspace : uri to source workspace\n",
    "\n",
    "Destination Workspace : uri to destination workspace\n"
   ]
  },
  {
   "cell_type": "code",
   "execution_count": 0,
   "metadata": {
    "application/vnd.databricks.v1+cell": {
     "cellMetadata": {
      "byteLimit": 2048000,
      "rowLimit": 10000
     },
     "inputWidgets": {},
     "nuid": "53acd61e-1e59-44fb-b185-7c629cd78050",
     "showTitle": false,
     "tableResultSettingsMap": {},
     "title": ""
    }
   },
   "outputs": [],
   "source": [
    "dbutils.widgets.text(\"source_workspace\", \"\", \"Source Workspace\")\n",
    "dbutils.widgets.text(\"destination_workspace\", \"\", \"Destination Workspace\")\n"
   ]
  },
  {
   "cell_type": "code",
   "execution_count": 0,
   "metadata": {
    "application/vnd.databricks.v1+cell": {
     "cellMetadata": {
      "byteLimit": 2048000,
      "rowLimit": 10000
     },
     "inputWidgets": {},
     "nuid": "fadebafc-a0da-45e2-b84d-bb2ad4cce937",
     "showTitle": false,
     "tableResultSettingsMap": {},
     "title": ""
    }
   },
   "outputs": [],
   "source": [
    "source_workspace = dbutils.widgets.get(\"source_workspace\")\n",
    "destination_workspace = dbutils.widgets.get(\"destination_workspace\")"
   ]
  },
  {
   "cell_type": "code",
   "execution_count": 0,
   "metadata": {
    "application/vnd.databricks.v1+cell": {
     "cellMetadata": {
      "byteLimit": 2048000,
      "rowLimit": 10000
     },
     "inputWidgets": {},
     "nuid": "492036b1-ae7e-4094-a889-957781cc4503",
     "showTitle": false,
     "tableResultSettingsMap": {},
     "title": ""
    }
   },
   "outputs": [],
   "source": [
    "# get the credentials for sp from a keyvault backed secret scope\n",
    "clientid = dbutils.secrets.get('kvbacked', 'clientid')\n",
    "clientsecret = dbutils.secrets.get('kvbacked', 'clientsecret')\n",
    "tenantid = dbutils.secrets.get('kvbacked', 'tenantid')"
   ]
  },
  {
   "cell_type": "code",
   "execution_count": 0,
   "metadata": {
    "application/vnd.databricks.v1+cell": {
     "cellMetadata": {
      "byteLimit": 2048000,
      "rowLimit": 10000
     },
     "inputWidgets": {},
     "nuid": "38507d57-721f-4896-bc3b-e628f4c2b5db",
     "showTitle": false,
     "tableResultSettingsMap": {},
     "title": ""
    }
   },
   "outputs": [],
   "source": [
    "#variables\n",
    "# catalogs to copy is the catalog name with the target storage root\n",
    "cats_to_copy = [{\n",
    "    \"catadb360dev\" : {\n",
    "                        \"schemas\" : [\n",
    "                            {\"schema\" : \"schemaadb360dev\"},\n",
    "                            {\"schema\" : \"silverdb\"},\n",
    "                            {\"schema\" : \"golddb\"}\n",
    "                        ]\n",
    "       }\n",
    "    }              \n",
    "]\n",
    "\n",
    "max_executors = 5"
   ]
  },
  {
   "cell_type": "code",
   "execution_count": 0,
   "metadata": {
    "application/vnd.databricks.v1+cell": {
     "cellMetadata": {
      "byteLimit": 2048000,
      "rowLimit": 10000
     },
     "inputWidgets": {},
     "nuid": "d7036924-5932-43e7-9072-641e8ca52819",
     "showTitle": false,
     "tableResultSettingsMap": {},
     "title": ""
    }
   },
   "outputs": [],
   "source": [
    "# get the catalogs to work on\n",
    "catalog_names = [list(cat.keys())[0] for cat in cats_to_copy]"
   ]
  },
  {
   "cell_type": "code",
   "execution_count": 0,
   "metadata": {
    "application/vnd.databricks.v1+cell": {
     "cellMetadata": {
      "byteLimit": 2048000,
      "rowLimit": 10000
     },
     "inputWidgets": {},
     "nuid": "56bccb6b-a7d7-4714-b74e-4969f9c4116e",
     "showTitle": false,
     "tableResultSettingsMap": {},
     "title": ""
    }
   },
   "outputs": [],
   "source": [
    "# for a specific catalog, get the schemas\n",
    "catalog_name = \"catadb360dev\"\n",
    "schema_names = [schema[\"schema\"] for cat in cats_to_copy if catalog_name in cat for schema in cat[catalog_name][\"schemas\"]]"
   ]
  },
  {
   "cell_type": "code",
   "execution_count": 0,
   "metadata": {
    "application/vnd.databricks.v1+cell": {
     "cellMetadata": {
      "byteLimit": 2048000,
      "rowLimit": 10000
     },
     "inputWidgets": {},
     "nuid": "b9ed6319-1616-4629-85ae-6fd756035680",
     "showTitle": false,
     "tableResultSettingsMap": {},
     "title": ""
    }
   },
   "outputs": [],
   "source": [
    "# imports\n",
    "from databricks.sdk import WorkspaceClient\n",
    "from databricks.sdk.errors.platform import ResourceAlreadyExists, BadRequest, NotFound\n",
    "from databricks.sdk.service import catalog\n",
    "from concurrent.futures import ThreadPoolExecutor\n",
    "from itertools import repeat"
   ]
  },
  {
   "cell_type": "code",
   "execution_count": 0,
   "metadata": {
    "application/vnd.databricks.v1+cell": {
     "cellMetadata": {
      "byteLimit": 2048000,
      "rowLimit": 10000
     },
     "inputWidgets": {},
     "nuid": "bea61385-ba60-45f1-9a47-f32e28d8e4dc",
     "showTitle": false,
     "tableResultSettingsMap": {},
     "title": ""
    }
   },
   "outputs": [],
   "source": [
    "# creating the sdk connection to source and destination workspace\n",
    "sourceWs = WorkspaceClient(azure_client_id=clientid, azure_client_secret=clientsecret, azure_tenant_id=tenantid, host=source_workspace)\n",
    "destWs = WorkspaceClient(azure_client_id=clientid, azure_client_secret=clientsecret, azure_tenant_id=tenantid, host=destination_workspace)"
   ]
  },
  {
   "cell_type": "code",
   "execution_count": 0,
   "metadata": {
    "application/vnd.databricks.v1+cell": {
     "cellMetadata": {
      "byteLimit": 2048000,
      "rowLimit": 10000
     },
     "inputWidgets": {},
     "nuid": "086e4876-5862-4662-8474-797680628e78",
     "showTitle": false,
     "tableResultSettingsMap": {},
     "title": ""
    }
   },
   "outputs": [],
   "source": [
    "# get tables and volumes from sourcews\n",
    "table_info_df = spark.sql(\"select * from system.information_schema.tables\")\n",
    "volume_info_df = spark.sql(\"select * from system.information_schema.volumes\")\n"
   ]
  },
  {
   "cell_type": "code",
   "execution_count": 0,
   "metadata": {
    "application/vnd.databricks.v1+cell": {
     "cellMetadata": {
      "byteLimit": 2048000,
      "rowLimit": 10000
     },
     "inputWidgets": {},
     "nuid": "552fe8c3-60a2-4396-bec1-683d9c3c7bfa",
     "showTitle": false,
     "tableResultSettingsMap": {},
     "title": ""
    }
   },
   "outputs": [],
   "source": [
    "# synch helper function\n",
    "def sync_grants(w_src: WorkspaceClient , w_tgt: WorkspaceClient, obj_name: str, obj_type: str):\n",
    "    # get source and target grants\n",
    "    source_grants = w_src.grants.get_effective(obj_type, obj_name)\n",
    "\n",
    "    # if the object does not exist in the secondary workspace, we cannot fetch it\n",
    "    try:\n",
    "        target_grants = w_tgt.grants.get_effective(obj_type, obj_name)\n",
    "    except NotFound:\n",
    "        return {\"name\": obj_name, \"status\": \"NotFound\"}\n",
    "\n",
    "    # get list of all distinct users with grants on the object\n",
    "    user_list = {u.principal for u in source_grants.privilege_assignments}.union(\n",
    "        {u.principal for u in target_grants.privilege_assignments})\n",
    "\n",
    "    # create PermissionsChange object for each user where a change exists\n",
    "    change_list = []\n",
    "    for u in user_list:\n",
    "        # get the source/target privileges; these may not exist in one or the other environment\n",
    "        try:\n",
    "            source_privs = [x.privilege for x in\n",
    "                            [p.privileges for p in source_grants.privilege_assignments if p.principal == u][0]\n",
    "                            if x.privilege is not None]\n",
    "        except IndexError:\n",
    "            source_privs = []\n",
    "\n",
    "        try:\n",
    "            target_privs = [x.privilege for x in\n",
    "                            [p.privileges for p in target_grants.privilege_assignments if p.principal == u][0]\n",
    "                            if x.privilege is not None]\n",
    "        except IndexError:\n",
    "            target_privs = []\n",
    "\n",
    "        add_perms = list(set(source_privs) - set(target_privs))\n",
    "        rem_perms = list(set(target_privs) - set(source_privs))\n",
    "\n",
    "        # for the change list based on which types of changes exist\n",
    "        if add_perms and rem_perms:\n",
    "            change_list.append(catalog.PermissionsChange(\n",
    "                add=add_perms,\n",
    "                remove=rem_perms,\n",
    "                principal=u))\n",
    "        elif add_perms:\n",
    "            change_list.append(catalog.PermissionsChange(\n",
    "                add=add_perms,\n",
    "                principal=u))\n",
    "        elif rem_perms:\n",
    "            change_list.append(catalog.PermissionsChange(\n",
    "                remove=rem_perms,\n",
    "                principal=u))\n",
    "\n",
    "    # if any grants changed, update the object in target\n",
    "    if change_list:\n",
    "        w_tgt.grants.update(full_name=obj_name,\n",
    "                            securable_type=obj_type,\n",
    "                            changes=change_list)\n",
    "        return {\"name\": obj_name, \"status\": \"SUCCESS\"}\n",
    "    else:\n",
    "        return {\"name\": obj_name, \"status\": None}\n"
   ]
  },
  {
   "cell_type": "code",
   "execution_count": 0,
   "metadata": {
    "application/vnd.databricks.v1+cell": {
     "cellMetadata": {
      "byteLimit": 2048000,
      "rowLimit": 10000
     },
     "inputWidgets": {},
     "nuid": "7462d3ab-d62e-4f03-b60a-28ee314efd3f",
     "showTitle": false,
     "tableResultSettingsMap": {},
     "title": ""
    }
   },
   "outputs": [],
   "source": [
    "# main loop\n",
    "for catalog_name in catalog_names:\n",
    "    filtered_tables = table_info_df.filter(\n",
    "        (table_info_df.table_catalog == catalog_name) &\n",
    "        (table_info_df.table_schema != 'information_schema')).collect()\n",
    "    \n",
    "    filtered_volumes = volume_info_df.filter(volume_info_df.volume_catalog == catalog_name).collect()\n",
    "\n",
    "    # synch catalog grants\n",
    "    result = sync_grants(sourceWs, destWs, catalog_name, catalog.SecurableType.CATALOG)\n",
    "\n",
    "    if result[\"status\"] == \"NotFound\":\n",
    "        print(f'Error: catalog {catalog_name} not found in target workspace')\n",
    "    elif result[\"status\"] == \"SUCCESS\":\n",
    "        print(f'Catalog {catalog_name} grants synched successfully')\n",
    "    else:\n",
    "        print(f'No Changes for  catalog {catalog_name}')\n",
    "\n",
    "\n",
    "    # get list of schemas and tables and volumes\n",
    "    schemas = {f'{catalog_name}.{schema}' for schema in [row['table_schema'] for row in filtered_tables]}\n",
    "    table_names = [f\"{catalog_name}.{schema}.{table}\" for schema, table in\n",
    "                   zip([row['table_schema'] for row in filtered_tables],\n",
    "                       [row['table_name'] for row in filtered_tables])]\n",
    "    volume_names = [f\"{catalog_name}.{schema}.{table}\" for schema, table in\n",
    "                    zip([row['volume_schema'] for row in filtered_volumes],\n",
    "                        [row['volume_name'] for row in filtered_volumes])]\n",
    "    \n",
    "    # synch permissions to schemas\n",
    "    for schema in schemas:\n",
    "        result = sync_grants(sourceWs, destWs, schema, catalog.SecurableType.SCHEMA)\n",
    "        if result[\"status\"] == \"NotFound\":\n",
    "            print(f'Error: catalog {schema} not found in target workspace')\n",
    "        elif result[\"status\"] == \"SUCCESS\":\n",
    "            print(f'Catalog {schema} grants synched successfully')\n",
    "        else:\n",
    "            print(f'No Changes for  catalog {schema}')     \n",
    "\n",
    "    # synch permissions for tables\n",
    "    with ThreadPoolExecutor(max_workers=max_executors) as executor:  \n",
    "         threads = executor.map(\n",
    "             sync_grants, \n",
    "             repeat(sourceWs), \n",
    "             repeat(destWs),\n",
    "             table_names,\n",
    "             repeat(catalog.SecurableType.TABLE)\n",
    "         )\n",
    "\n",
    "    for result in threads:\n",
    "        name = result['name']\n",
    "        if result[\"status\"] == \"SUCCESS\":\n",
    "            print(f'synched grants for table {name}')\n",
    "        elif result[\"status\"] == \"NotFound\":\n",
    "            print(f'Error: table {name} not found in target workspace')\n",
    "        else:\n",
    "            print(f'No Changes for table {name}')\n",
    "\n",
    "\n",
    "    # synch permission for volumes\n",
    "    for volume_name in volume_names:\n",
    "        result = sync_grants(sourceWs, destWs, volume_name, catalog.SecurableType.VOLUME)\n",
    "        if result[\"status\"] == \"NotFound\":\n",
    "            print(f'Error: volume {volume_name} not found in target workspace')\n",
    "        elif result[\"status\"] == \"SUCCESS\":\n",
    "            print(f'volume {volume_name} grants synched successfully')\n",
    "        else:\n",
    "            print(f'No Changes for  volume {volume_name}')  \n",
    "\n",
    "\n",
    "print(\"finished synching grants\")\n"
   ]
  },
  {
   "cell_type": "code",
   "execution_count": 0,
   "metadata": {
    "application/vnd.databricks.v1+cell": {
     "cellMetadata": {
      "byteLimit": 2048000,
      "rowLimit": 10000
     },
     "inputWidgets": {},
     "nuid": "f1687ab1-a6a5-45b4-a9b0-9ff03ff2e1c1",
     "showTitle": false,
     "tableResultSettingsMap": {},
     "title": ""
    }
   },
   "outputs": [],
   "source": [
    "print(volume_names)"
   ]
  }
 ],
 "metadata": {
  "application/vnd.databricks.v1+notebook": {
   "computePreferences": null,
   "dashboards": [],
   "environmentMetadata": {
    "base_environment": "",
    "environment_version": "2"
   },
   "inputWidgetPreferences": null,
   "language": "python",
   "notebookMetadata": {
    "pythonIndentUnit": 4
   },
   "notebookName": "05_synch_permissions",
   "widgets": {
    "destination_workspace": {
     "currentValue": "https://adb-4274552575873366.6.azuredatabricks.net/",
     "nuid": "515bc572-3a41-49d3-809d-e883ea2ff57a",
     "typedWidgetInfo": {
      "autoCreated": false,
      "defaultValue": "",
      "label": "Destination Workspace",
      "name": "destination_workspace",
      "options": {
       "widgetDisplayType": "Text",
       "validationRegex": null
      },
      "parameterDataType": "String"
     },
     "widgetInfo": {
      "widgetType": "text",
      "defaultValue": "",
      "label": "Destination Workspace",
      "name": "destination_workspace",
      "options": {
       "widgetType": "text",
       "autoCreated": null,
       "validationRegex": null
      }
     }
    },
    "source_workspace": {
     "currentValue": "https://adb-2154722801623435.15.azuredatabricks.net/",
     "nuid": "a0f3729e-b3ed-4078-8955-2ad1d2445254",
     "typedWidgetInfo": {
      "autoCreated": false,
      "defaultValue": "",
      "label": "Source Workspace",
      "name": "source_workspace",
      "options": {
       "widgetDisplayType": "Text",
       "validationRegex": null
      },
      "parameterDataType": "String"
     },
     "widgetInfo": {
      "widgetType": "text",
      "defaultValue": "",
      "label": "Source Workspace",
      "name": "source_workspace",
      "options": {
       "widgetType": "text",
       "autoCreated": null,
       "validationRegex": null
      }
     }
    }
   }
  },
  "language_info": {
   "name": "python"
  }
 },
 "nbformat": 4,
 "nbformat_minor": 0
}
